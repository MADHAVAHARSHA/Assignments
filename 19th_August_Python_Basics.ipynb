{
  "nbformat": 4,
  "nbformat_minor": 0,
  "metadata": {
    "colab": {
      "provenance": [],
      "authorship_tag": "ABX9TyNLUI6WPZdSljdiJnETPPIL",
      "include_colab_link": true
    },
    "kernelspec": {
      "name": "python3",
      "display_name": "Python 3"
    },
    "language_info": {
      "name": "python"
    }
  },
  "cells": [
    {
      "cell_type": "markdown",
      "metadata": {
        "id": "view-in-github",
        "colab_type": "text"
      },
      "source": [
        "<a href=\"https://colab.research.google.com/github/MADHAVAHARSHA/Assignments/blob/main/19th_August_Python_Basics.ipynb\" target=\"_parent\"><img src=\"https://colab.research.google.com/assets/colab-badge.svg\" alt=\"Open In Colab\"/></a>"
      ]
    },
    {
      "cell_type": "markdown",
      "source": [
        "# TOPIC: Python Basics Variable"
      ],
      "metadata": {
        "id": "JnRwHnWwo-mw"
      }
    },
    {
      "cell_type": "markdown",
      "source": [
        "* 1.  Declare two variables, `x` and `y`, and assign them integer values. Swap the\n",
        "values of these variables without using any temporary variable."
      ],
      "metadata": {
        "id": "7UqpewelpCHJ"
      }
    },
    {
      "cell_type": "code",
      "execution_count": null,
      "metadata": {
        "id": "Kp8_pfAsosVF"
      },
      "outputs": [],
      "source": [
        "x , y = 8, 9"
      ]
    },
    {
      "cell_type": "code",
      "source": [
        "x, y"
      ],
      "metadata": {
        "colab": {
          "base_uri": "https://localhost:8080/"
        },
        "id": "eS1wqw-qqxpB",
        "outputId": "b2a94669-8e92-4392-d5c7-6744e4183aca"
      },
      "execution_count": null,
      "outputs": [
        {
          "output_type": "execute_result",
          "data": {
            "text/plain": [
              "(8, 9)"
            ]
          },
          "metadata": {},
          "execution_count": 37
        }
      ]
    },
    {
      "cell_type": "code",
      "source": [
        "x = x+y"
      ],
      "metadata": {
        "id": "PCh81IV0tr9B"
      },
      "execution_count": null,
      "outputs": []
    },
    {
      "cell_type": "code",
      "source": [
        "y = x - y"
      ],
      "metadata": {
        "id": "3AHDQgfQtuOb"
      },
      "execution_count": null,
      "outputs": []
    },
    {
      "cell_type": "code",
      "source": [
        "x = x-y"
      ],
      "metadata": {
        "id": "nBl7btk7txIc"
      },
      "execution_count": null,
      "outputs": []
    },
    {
      "cell_type": "code",
      "source": [
        "x, y"
      ],
      "metadata": {
        "colab": {
          "base_uri": "https://localhost:8080/"
        },
        "id": "nw2R0hHat08K",
        "outputId": "70e96d44-eb23-4393-c248-968e8d2c401c"
      },
      "execution_count": null,
      "outputs": [
        {
          "output_type": "execute_result",
          "data": {
            "text/plain": [
              "(9, 8)"
            ]
          },
          "metadata": {},
          "execution_count": 41
        }
      ]
    },
    {
      "cell_type": "markdown",
      "source": [
        "* 2. Create a program that calculates the area of a rectangle. Take the length and\n",
        "width as inputs from the user and store them in variables. Calculate and\n",
        "display the area."
      ],
      "metadata": {
        "id": "_NWpH9PZpH_p"
      }
    },
    {
      "cell_type": "markdown",
      "source": [
        "* formula Area = l(lenght)*b(breadth)"
      ],
      "metadata": {
        "id": "v3xNPEf3Uphx"
      }
    },
    {
      "cell_type": "code",
      "source": [
        "l = float(input(\"enter the lenght\"))\n",
        "b = float(input(\"enter the breadth\"))\n",
        "\n",
        "Area = l*b\n",
        "print(\"The calculated area of a rectangle is \",Area)"
      ],
      "metadata": {
        "colab": {
          "base_uri": "https://localhost:8080/"
        },
        "id": "e893_CQKpJBe",
        "outputId": "2fe3c94b-6bc1-4d43-c573-f70830b48e75"
      },
      "execution_count": 1,
      "outputs": [
        {
          "output_type": "stream",
          "name": "stdout",
          "text": [
            "enter the lenght4.5\n",
            "enter the breadth6.7\n",
            "The calculated area of a rectangle is  30.150000000000002\n"
          ]
        }
      ]
    },
    {
      "cell_type": "markdown",
      "source": [
        "* 3. Write a Python program that converts temperatures from Celsius to\n",
        "Fahrenheit. Take the temperature in Celsius as input, store it in a variable,\n",
        "convert it to Fahrenheit, and display the result."
      ],
      "metadata": {
        "id": "g3-tEh6-pJ39"
      }
    },
    {
      "cell_type": "code",
      "source": [
        "c = float(input(\"enter the celsius\"))\n",
        "f = (c*1.8)+32\n",
        "print(\"result\",f)"
      ],
      "metadata": {
        "colab": {
          "base_uri": "https://localhost:8080/"
        },
        "id": "6Q_2zy2upMWH",
        "outputId": "c1173f93-bcdf-43fb-c248-5e875f6efe93"
      },
      "execution_count": null,
      "outputs": [
        {
          "output_type": "stream",
          "name": "stdout",
          "text": [
            "enter the celsius54.5\n",
            "result 130.10000000000002\n"
          ]
        }
      ]
    },
    {
      "cell_type": "markdown",
      "source": [
        "# TOPIC: String Based Questions"
      ],
      "metadata": {
        "id": "aDmj0ovypNiz"
      }
    },
    {
      "cell_type": "markdown",
      "source": [
        "1. Write a Python program that takes a string as input and prints the length of\n",
        "the string."
      ],
      "metadata": {
        "id": "9_WsgjBdpTeN"
      }
    },
    {
      "cell_type": "code",
      "source": [
        "s = input(\"Enter a string\")\n",
        "print(\"Length of string\",len(s))"
      ],
      "metadata": {
        "colab": {
          "base_uri": "https://localhost:8080/"
        },
        "id": "zeAp267LpRF-",
        "outputId": "fa431e6e-5e8e-470f-850f-0be2f8a792b1"
      },
      "execution_count": null,
      "outputs": [
        {
          "output_type": "stream",
          "name": "stdout",
          "text": [
            "Enter a stringthis is a sample program\n",
            "Length of string 24\n"
          ]
        }
      ]
    },
    {
      "cell_type": "markdown",
      "source": [
        "2. Create a program that takes a sentence from the user and counts the number\n",
        "of vowels (a, e, i, o, u) in the string."
      ],
      "metadata": {
        "id": "VCLXp3QGpWPQ"
      }
    },
    {
      "cell_type": "code",
      "source": [
        "k = input(\"enter the sentence you want to type\\n\")\n",
        "count = 0\n",
        "vowels = ['a','e','i','o','u']\n",
        "for i in range(len(k)):\n",
        "  if k[i] in vowels:\n",
        "    count+=1\n",
        "print(\"No of vowels in a given string is\",count)"
      ],
      "metadata": {
        "colab": {
          "base_uri": "https://localhost:8080/"
        },
        "id": "ZdtlYNZTpYsC",
        "outputId": "a7cb1f16-e227-4bcd-ab32-5c4ca450414c"
      },
      "execution_count": null,
      "outputs": [
        {
          "output_type": "stream",
          "name": "stdout",
          "text": [
            "enter the sentence you want to type\n",
            "this is a sample sentence for reference \n",
            "No of vowels in a given string is 13\n"
          ]
        }
      ]
    },
    {
      "cell_type": "markdown",
      "source": [
        "3. Given a string, reverse the order of characters using string slicing and print\n",
        "the reversed string."
      ],
      "metadata": {
        "id": "0P0tAoj4paye"
      }
    },
    {
      "cell_type": "code",
      "source": [
        "f = input(\"enter a string\\n\")\n",
        "print(\"reversed string is \",f[::-1])"
      ],
      "metadata": {
        "colab": {
          "base_uri": "https://localhost:8080/"
        },
        "id": "Q7B9A3mopbLk",
        "outputId": "229b0606-1668-4807-80c2-011f955a85a6"
      },
      "execution_count": null,
      "outputs": [
        {
          "output_type": "stream",
          "name": "stdout",
          "text": [
            "enter a string\n",
            "harsha\n",
            "reversed string is  ahsrah\n"
          ]
        }
      ]
    },
    {
      "cell_type": "markdown",
      "source": [
        "4. Write a program that takes a string as input and checks if it is a palindrome\n",
        "(reads the same forwards and backwards)."
      ],
      "metadata": {
        "id": "KZiRbkdApdcC"
      }
    },
    {
      "cell_type": "code",
      "source": [
        "a = input(\"enter a string\")\n",
        "z = a[::-1]\n",
        "if a==z:\n",
        "  print(\"given string is palindrome\")\n",
        "else:\n",
        "  print(\"Not palindrome\")"
      ],
      "metadata": {
        "colab": {
          "base_uri": "https://localhost:8080/"
        },
        "id": "H0trz7lgpdxL",
        "outputId": "1ea90ffd-ab66-4304-a837-401f2b1f44a1"
      },
      "execution_count": null,
      "outputs": [
        {
          "output_type": "stream",
          "name": "stdout",
          "text": [
            "enter a stringharsha\n",
            "Not palindrome\n"
          ]
        }
      ]
    },
    {
      "cell_type": "markdown",
      "source": [
        "5. Create a program that takes a string as input and removes all the spaces from\n",
        "it. Print the modified string without spaces."
      ],
      "metadata": {
        "id": "2RVn0M3Rphwx"
      }
    },
    {
      "cell_type": "code",
      "source": [
        "m = input(\"enter the string with spaces\\n\")\n",
        "print(\"string without spaces\",m.replace(\" \",\"\"))"
      ],
      "metadata": {
        "colab": {
          "base_uri": "https://localhost:8080/"
        },
        "id": "sXOHPjcGpgog",
        "outputId": "94e3124c-2fe8-422b-cec8-8f48d61549da"
      },
      "execution_count": null,
      "outputs": [
        {
          "output_type": "stream",
          "name": "stdout",
          "text": [
            "enter the string with spaces\n",
            "string as input and removes all the spaces from it\n",
            "string without spaces stringasinputandremovesallthespacesfromit\n"
          ]
        }
      ]
    },
    {
      "cell_type": "code",
      "source": [],
      "metadata": {
        "id": "mAuOZE-5jU89"
      },
      "execution_count": null,
      "outputs": []
    }
  ]
}